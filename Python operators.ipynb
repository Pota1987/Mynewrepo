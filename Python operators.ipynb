{
 "cells": [
  {
   "cell_type": "code",
   "execution_count": null,
   "id": "7e4dd281",
   "metadata": {},
   "outputs": [],
   "source": [
    "# demonstrating the (=) equal operator\n",
    "a = 10\n",
    "print(a)"
   ]
  },
  {
   "cell_type": "code",
   "execution_count": null,
   "id": "4e76f408",
   "metadata": {},
   "outputs": [],
   "source": [
    "# demonstrating the (+) operator \n",
    "a = 5\n",
    "a += 5\n",
    "print(a)"
   ]
  },
  {
   "cell_type": "code",
   "execution_count": null,
   "id": "1499128b",
   "metadata": {},
   "outputs": [],
   "source": [
    "# demonstrating the (-) subtracting operator \n",
    "a = 10\n",
    "a -= 5\n",
    "print(a)"
   ]
  },
  {
   "cell_type": "code",
   "execution_count": null,
   "id": "dbfa67aa",
   "metadata": {},
   "outputs": [],
   "source": [
    "# demonstrating the (*) multiply operator\n",
    "a = 10\n",
    "a *= 10\n",
    "print(a)"
   ]
  },
  {
   "cell_type": "code",
   "execution_count": null,
   "id": "4d93d2c3",
   "metadata": {},
   "outputs": [],
   "source": [
    "# demonstrating the (/) divide operator \n",
    "a = 100\n",
    "a /= 50\n",
    "print(a)"
   ]
  },
  {
   "cell_type": "code",
   "execution_count": null,
   "id": "d22c672a",
   "metadata": {},
   "outputs": [],
   "source": [
    "# demonstrating (%) modulus operator; NB The modulus is another name for the remainder after division\n",
    "a = 17\n",
    "a %= 2\n",
    "print(a)"
   ]
  },
  {
   "cell_type": "code",
   "execution_count": null,
   "id": "9b3906ad",
   "metadata": {},
   "outputs": [],
   "source": [
    "# again\n",
    "a = 100\n",
    "a %= 71\n",
    "print(a)"
   ]
  },
  {
   "cell_type": "code",
   "execution_count": null,
   "id": "b3a81513",
   "metadata": {},
   "outputs": [],
   "source": [
    "# demonstrating the (88) exponent operator\n",
    "a = 5\n",
    "a **=2\n",
    "print(a)"
   ]
  },
  {
   "cell_type": "code",
   "execution_count": null,
   "id": "9a2aafc6",
   "metadata": {},
   "outputs": [],
   "source": [
    "# again\n",
    "a = 3\n",
    "a **= 3\n",
    "print(a)"
   ]
  },
  {
   "cell_type": "code",
   "execution_count": null,
   "id": "7b8b64cd",
   "metadata": {},
   "outputs": [],
   "source": [
    "# demonstrating the (//) floor division operator;\n",
    "a = 10\n",
    "a //= 3.5\n",
    "print(a)"
   ]
  },
  {
   "cell_type": "code",
   "execution_count": null,
   "id": "0ceeb290",
   "metadata": {},
   "outputs": [],
   "source": [
    "# again\n",
    "a = 150\n",
    "a //= 7\n",
    "print(a)"
   ]
  },
  {
   "cell_type": "code",
   "execution_count": null,
   "id": "89cb7013",
   "metadata": {},
   "outputs": [],
   "source": [
    "# ARITHMETIC OPERATORS"
   ]
  },
  {
   "cell_type": "code",
   "execution_count": null,
   "id": "db49b636",
   "metadata": {},
   "outputs": [],
   "source": [
    "# demonstrating the (+) addition operator\n",
    "a = 5\n",
    "b = 10\n",
    "print(a + b)"
   ]
  },
  {
   "cell_type": "code",
   "execution_count": null,
   "id": "f62ffb20",
   "metadata": {},
   "outputs": [],
   "source": [
    "# demonstrating the (-) subtraction operator\n",
    "a = 100\n",
    "b = 99\n",
    "print(a - b)"
   ]
  },
  {
   "cell_type": "code",
   "execution_count": null,
   "id": "168891bf",
   "metadata": {},
   "outputs": [],
   "source": [
    "# demonstrating the multicplication operator \n",
    "a = 20\n",
    "b = 20\n",
    "print(a * b)"
   ]
  },
  {
   "cell_type": "code",
   "execution_count": null,
   "id": "34076d77",
   "metadata": {},
   "outputs": [],
   "source": [
    "# demonstrating the division operator \n",
    "a = 10\n",
    "b =5\n",
    "print(a / b)"
   ]
  },
  {
   "cell_type": "code",
   "execution_count": null,
   "id": "978eaf39",
   "metadata": {},
   "outputs": [],
   "source": [
    "# demonstrating the modulus operator NB Divides left-hand operand by right-hand operand and returns the remainder\n",
    "a = 100\n",
    "b = 20\n",
    "print(a % b)"
   ]
  },
  {
   "cell_type": "code",
   "execution_count": null,
   "id": "a01168af",
   "metadata": {},
   "outputs": [],
   "source": [
    "# demonstrating the (**) exponent operator\n",
    "a = 9\n",
    "print (a **2)"
   ]
  },
  {
   "cell_type": "code",
   "execution_count": null,
   "id": "396c3820",
   "metadata": {},
   "outputs": [],
   "source": [
    "# demonstrating the (//) floor division operator \n",
    "a = 9\n",
    "b = 7\n",
    "print(a // b)"
   ]
  },
  {
   "cell_type": "code",
   "execution_count": null,
   "id": "135aa880",
   "metadata": {},
   "outputs": [],
   "source": [
    "# COMPARISON OPERATORS"
   ]
  },
  {
   "cell_type": "code",
   "execution_count": null,
   "id": "f424277e",
   "metadata": {},
   "outputs": [],
   "source": [
    "# demonstrating the == operator\n",
    "a = 5\n",
    "b = 5\n",
    "print(a == b)"
   ]
  },
  {
   "cell_type": "code",
   "execution_count": null,
   "id": "6e2a5a54",
   "metadata": {},
   "outputs": [],
   "source": [
    "# demonstrating the (!=) not equial to operator\n",
    "a = 50\n",
    "b = 50\n",
    "print(a != b)"
   ]
  },
  {
   "cell_type": "code",
   "execution_count": null,
   "id": "2420d837",
   "metadata": {},
   "outputs": [],
   "source": [
    "# greater than (>) operator \n",
    "a = 10\n",
    "b = 5\n",
    "print(a > b)"
   ]
  },
  {
   "cell_type": "code",
   "execution_count": null,
   "id": "074359ad",
   "metadata": {},
   "outputs": [],
   "source": [
    "# demonstrating the (>=) operator\n",
    "a = 50\n",
    "b = 49\n",
    "print(a >= b)"
   ]
  },
  {
   "cell_type": "code",
   "execution_count": null,
   "id": "888c74d4",
   "metadata": {
    "scrolled": true
   },
   "outputs": [],
   "source": [
    "# demonstrating the (<=) operator\n",
    "a = 60\n",
    "b = 98\n",
    "print (a <= b)"
   ]
  },
  {
   "cell_type": "code",
   "execution_count": null,
   "id": "90baf1f6",
   "metadata": {},
   "outputs": [],
   "source": [
    "# LOGICAL OPERATORS"
   ]
  },
  {
   "cell_type": "code",
   "execution_count": null,
   "id": "62f4776c",
   "metadata": {},
   "outputs": [],
   "source": [
    " # demonstrating the 'and' operator\n",
    "a = 50\n",
    "b = 40\n",
    "if a >=50 and b < 100:\n",
    "    print(\"semo a caval\")"
   ]
  },
  {
   "cell_type": "code",
   "execution_count": null,
   "id": "01c60958",
   "metadata": {},
   "outputs": [],
   "source": [
    " # demonstrating the 'or' operator\n",
    "a = 50\n",
    "b = 800\n",
    "if a >500 or b > 500:\n",
    "    print(\"te ga intivá\")"
   ]
  },
  {
   "cell_type": "code",
   "execution_count": null,
   "id": "8c5bda04",
   "metadata": {},
   "outputs": [],
   "source": [
    "# demonstrating the 'not' operator NB Returns True if the statement is false and False if the statement is true\n",
    "a = 10\n",
    "if not (a > 10):\n",
    "    print(\"yes\")\n",
    "else:\n",
    "        print(\"no\")"
   ]
  },
  {
   "cell_type": "code",
   "execution_count": null,
   "id": "f5bb6eef",
   "metadata": {},
   "outputs": [],
   "source": [
    "# MEMBERSHIP OPERATORS"
   ]
  },
  {
   "cell_type": "code",
   "execution_count": null,
   "id": "01a3dcf7",
   "metadata": {},
   "outputs": [],
   "source": [
    "# demonstrating the 'in' operator\n",
    "serie_b = [\"Parma\", \"Reggiana\", \"Triestina\"]\n",
    "print (\"Parma\" in serie_b)\n"
   ]
  },
  {
   "cell_type": "code",
   "execution_count": null,
   "id": "739c5f0a",
   "metadata": {},
   "outputs": [],
   "source": [
    "# demonstrating the 'not in' operator\n",
    "pussa = [\"Germania\", \"Austria\", \"Francia\"]\n",
    "print (\"Austria\" not in pussa)"
   ]
  },
  {
   "cell_type": "code",
   "execution_count": null,
   "id": "e195eefd",
   "metadata": {},
   "outputs": [],
   "source": [
    "# BITWISE OPERATORS"
   ]
  },
  {
   "cell_type": "code",
   "execution_count": 2,
   "id": "0b0a6c3d",
   "metadata": {},
   "outputs": [
    {
     "name": "stdout",
     "output_type": "stream",
     "text": [
      "welcome\n"
     ]
    }
   ],
   "source": [
    "def new_player():\n",
    "    print(\"welcome\")\n",
    "new_player()"
   ]
  },
  {
   "cell_type": "code",
   "execution_count": 6,
   "id": "d2d63377",
   "metadata": {},
   "outputs": [
    {
     "name": "stdout",
     "output_type": "stream",
     "text": [
      "Benvenuto a bordo, Paolo!\n"
     ]
    }
   ],
   "source": [
    "def new_player(name):\n",
    "    return f\"Benvenuto a bordo, {name}!\"\n",
    "print(new_player(\"Paolo\"))"
   ]
  },
  {
   "cell_type": "code",
   "execution_count": 9,
   "id": "0a67e4fa",
   "metadata": {},
   "outputs": [
    {
     "name": "stdout",
     "output_type": "stream",
     "text": [
      "101 102\n"
     ]
    }
   ],
   "source": [
    "def impl_memo(x):\n",
    "    a = x + 1\n",
    "    b = x + 2\n",
    "    return a, b \n",
    "\n",
    "x, y = impl_memo(100)\n",
    "print(x, y)\n"
   ]
  },
  {
   "cell_type": "code",
   "execution_count": 10,
   "id": "eb1ea20a",
   "metadata": {},
   "outputs": [
    {
     "data": {
      "text/plain": [
       "10"
      ]
     },
     "execution_count": 10,
     "metadata": {},
     "output_type": "execute_result"
    }
   ],
   "source": [
    "5 + 5"
   ]
  },
  {
   "cell_type": "code",
   "execution_count": 12,
   "id": "a79a66e4",
   "metadata": {},
   "outputs": [
    {
     "name": "stdout",
     "output_type": "stream",
     "text": [
      "[1, 1100.1, 'America']\n"
     ]
    }
   ],
   "source": [
    "list_2 = [1, 1100.1, \"America\"]\n",
    "print(list_2)"
   ]
  },
  {
   "cell_type": "code",
   "execution_count": 13,
   "id": "d66c5fa4",
   "metadata": {},
   "outputs": [
    {
     "data": {
      "text/plain": [
       "3"
      ]
     },
     "execution_count": 13,
     "metadata": {},
     "output_type": "execute_result"
    }
   ],
   "source": [
    "planets = [\"mercury\", \"pluto\", \"venus\"]\n",
    "len(planets)"
   ]
  },
  {
   "cell_type": "code",
   "execution_count": 15,
   "id": "6b71ddd7",
   "metadata": {},
   "outputs": [
    {
     "name": "stdout",
     "output_type": "stream",
     "text": [
      "['mercury', 'pluto', 'venus', 'World', 'Earth']\n"
     ]
    },
    {
     "data": {
      "text/plain": [
       "5"
      ]
     },
     "execution_count": 15,
     "metadata": {},
     "output_type": "execute_result"
    }
   ],
   "source": [
    "planets.append(\"Earth\")\n",
    "print(planets)\n",
    "len(planets)"
   ]
  },
  {
   "cell_type": "code",
   "execution_count": 16,
   "id": "53982f1b",
   "metadata": {},
   "outputs": [],
   "source": [
    "planets.remove(\"World\")"
   ]
  },
  {
   "cell_type": "code",
   "execution_count": 17,
   "id": "10039d61",
   "metadata": {},
   "outputs": [
    {
     "name": "stdout",
     "output_type": "stream",
     "text": [
      "['mercury', 'pluto', 'venus', 'Earth']\n"
     ]
    }
   ],
   "source": [
    "print(planets)"
   ]
  },
  {
   "cell_type": "code",
   "execution_count": 18,
   "id": "a2ce502f",
   "metadata": {},
   "outputs": [
    {
     "name": "stdout",
     "output_type": "stream",
     "text": [
      "['Maialiii', 'mercury', 'pluto', 'venus', 'Earth']\n"
     ]
    }
   ],
   "source": [
    "planets.insert(0, \"Maialiii\")\n",
    "print(planets)"
   ]
  },
  {
   "cell_type": "code",
   "execution_count": 19,
   "id": "886d6f69",
   "metadata": {},
   "outputs": [
    {
     "name": "stdout",
     "output_type": "stream",
     "text": [
      "['Donnarumma', 'Albiol', 'Pappalardo', 'Paqueta', 'Buffonna', 'Ettore', 'Bambola Ramona']\n",
      "7\n"
     ]
    }
   ],
   "source": [
    "milan = [\"Donnarumma\", \"Albiol\", \"Pappalardo\", \"Paqueta\"]\n",
    "juventus = [\"Buffonna\", \"Ettore\", \"Bambola Ramona\"] \n",
    "combo = milan + juventus\n",
    "print(combo)\n",
    "print(len(combo))"
   ]
  },
  {
   "cell_type": "code",
   "execution_count": 20,
   "id": "b57cc595",
   "metadata": {},
   "outputs": [
    {
     "name": "stdout",
     "output_type": "stream",
     "text": [
      "['Albiol', 'Donnarumma', 'Pappalardo', 'Paqueta']\n"
     ]
    }
   ],
   "source": [
    "milan.sort()\n",
    "print(milan)"
   ]
  },
  {
   "cell_type": "code",
   "execution_count": 21,
   "id": "e1281358",
   "metadata": {},
   "outputs": [
    {
     "name": "stdout",
     "output_type": "stream",
     "text": [
      "['Paqueta', 'Pappalardo', 'Donnarumma', 'Albiol']\n"
     ]
    }
   ],
   "source": [
    "milan.sort(reverse = True)\n",
    "print(milan)"
   ]
  },
  {
   "cell_type": "code",
   "execution_count": 23,
   "id": "fbf20a7c",
   "metadata": {},
   "outputs": [
    {
     "data": {
      "text/plain": [
       "['Pappalardo', 'Paqueta', 'Buffonna', 'Ettore', 'Bambola Ramona']"
      ]
     },
     "execution_count": 23,
     "metadata": {},
     "output_type": "execute_result"
    }
   ],
   "source": [
    "combo[2:8]"
   ]
  },
  {
   "cell_type": "code",
   "execution_count": 29,
   "id": "6d0490fb",
   "metadata": {},
   "outputs": [
    {
     "data": {
      "text/plain": [
       "['Donnarumma', 'Paqueta', 'Bambola Ramona']"
      ]
     },
     "execution_count": 29,
     "metadata": {},
     "output_type": "execute_result"
    }
   ],
   "source": [
    "combo[0:8:3]"
   ]
  },
  {
   "cell_type": "code",
   "execution_count": 32,
   "id": "501f8b4a",
   "metadata": {},
   "outputs": [
    {
     "name": "stdout",
     "output_type": "stream",
     "text": [
      "100\n",
      "5\n"
     ]
    }
   ],
   "source": [
    "listacomunista = [1,2,15,6,100]\n",
    "tup_de_scopp = (5,66,7,8,99)\n",
    "print(max(listacomunista))\n",
    "print(min(tup_de_scopp))"
   ]
  },
  {
   "cell_type": "code",
   "execution_count": 35,
   "id": "57c0aa40",
   "metadata": {},
   "outputs": [
    {
     "name": "stdout",
     "output_type": "stream",
     "text": [
      "Earth\n",
      "Saturn\n",
      "Pluto\n"
     ]
    }
   ],
   "source": [
    "celestial_objects = (\"Earth\", \"Saturn\", \"Pluto\")\n",
    "planet, gas_giant, dwarf_planet = celestial_objects\n",
    "print(planet)\n",
    "print(gas_giant)\n",
    "print(dwarf_planet)"
   ]
  },
  {
   "cell_type": "code",
   "execution_count": 44,
   "id": "692bc2c5",
   "metadata": {},
   "outputs": [
    {
     "name": "stdout",
     "output_type": "stream",
     "text": [
      "(1, 10.1, 89, 56, 1.1)\n",
      "5\n",
      "89\n",
      "1\n",
      "1\n",
      "89\n"
     ]
    }
   ],
   "source": [
    "group_a = (1, 10.1, 89, 56, 1.1)\n",
    "print(group_a)\n",
    "print(len(group_a))\n",
    "print(max(group_a))\n",
    "print(min(group_a))\n",
    "print(group_a[0])\n",
    "print(group_a[2])\n"
   ]
  },
  {
   "cell_type": "code",
   "execution_count": null,
   "id": "77dc07d6",
   "metadata": {},
   "outputs": [],
   "source": []
  }
 ],
 "metadata": {
  "kernelspec": {
   "display_name": "Python 3 (ipykernel)",
   "language": "python",
   "name": "python3"
  },
  "language_info": {
   "codemirror_mode": {
    "name": "ipython",
    "version": 3
   },
   "file_extension": ".py",
   "mimetype": "text/x-python",
   "name": "python",
   "nbconvert_exporter": "python",
   "pygments_lexer": "ipython3",
   "version": "3.9.7"
  }
 },
 "nbformat": 4,
 "nbformat_minor": 5
}
