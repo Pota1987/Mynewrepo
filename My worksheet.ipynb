{
 "cells": [
  {
   "cell_type": "code",
   "execution_count": 1,
   "id": "7e4dd281",
   "metadata": {},
   "outputs": [
    {
     "name": "stdout",
     "output_type": "stream",
     "text": [
      "10\n"
     ]
    }
   ],
   "source": [
    "# demonstrating the (=) equal operator\n",
    "a = 10\n",
    "print(a)"
   ]
  },
  {
   "cell_type": "code",
   "execution_count": 3,
   "id": "4e76f408",
   "metadata": {},
   "outputs": [
    {
     "name": "stdout",
     "output_type": "stream",
     "text": [
      "10\n"
     ]
    }
   ],
   "source": [
    "# demonstrating the (+) operator \n",
    "a = 5\n",
    "a += 5\n",
    "print(a)"
   ]
  },
  {
   "cell_type": "code",
   "execution_count": 4,
   "id": "1499128b",
   "metadata": {},
   "outputs": [
    {
     "name": "stdout",
     "output_type": "stream",
     "text": [
      "5\n"
     ]
    }
   ],
   "source": [
    "# demonstrating the (-) subtracting operator \n",
    "a = 10\n",
    "a -= 5\n",
    "print(a)"
   ]
  },
  {
   "cell_type": "code",
   "execution_count": 5,
   "id": "dbfa67aa",
   "metadata": {},
   "outputs": [
    {
     "name": "stdout",
     "output_type": "stream",
     "text": [
      "100\n"
     ]
    }
   ],
   "source": [
    "# demonstrating the (*) multiply operator\n",
    "a = 10\n",
    "a *= 10\n",
    "print(a)"
   ]
  },
  {
   "cell_type": "code",
   "execution_count": 14,
   "id": "4d93d2c3",
   "metadata": {},
   "outputs": [
    {
     "name": "stdout",
     "output_type": "stream",
     "text": [
      "2.0\n"
     ]
    }
   ],
   "source": [
    "# demonstrating the (/) divide operator \n",
    "a = 100\n",
    "a /= 50\n",
    "print(a)"
   ]
  },
  {
   "cell_type": "code",
   "execution_count": 7,
   "id": "d22c672a",
   "metadata": {},
   "outputs": [
    {
     "name": "stdout",
     "output_type": "stream",
     "text": [
      "1\n"
     ]
    }
   ],
   "source": [
    "# demonstrating (%) modulus operator; NB The modulus is another name for the remainder after division\n",
    "a = 17\n",
    "a %= 2\n",
    "print(a)"
   ]
  },
  {
   "cell_type": "code",
   "execution_count": 8,
   "id": "9b3906ad",
   "metadata": {},
   "outputs": [
    {
     "name": "stdout",
     "output_type": "stream",
     "text": [
      "29\n"
     ]
    }
   ],
   "source": [
    "# again\n",
    "a = 100\n",
    "a %= 71\n",
    "print(a)"
   ]
  },
  {
   "cell_type": "code",
   "execution_count": 9,
   "id": "b3a81513",
   "metadata": {},
   "outputs": [
    {
     "name": "stdout",
     "output_type": "stream",
     "text": [
      "25\n"
     ]
    }
   ],
   "source": [
    "# demonstrating the (88) exponent operator\n",
    "a = 5\n",
    "a **=2\n",
    "print(a)"
   ]
  },
  {
   "cell_type": "code",
   "execution_count": 10,
   "id": "9a2aafc6",
   "metadata": {},
   "outputs": [
    {
     "name": "stdout",
     "output_type": "stream",
     "text": [
      "27\n"
     ]
    }
   ],
   "source": [
    "# again\n",
    "a = 3\n",
    "a **= 3\n",
    "print(a)"
   ]
  },
  {
   "cell_type": "code",
   "execution_count": 11,
   "id": "7b8b64cd",
   "metadata": {},
   "outputs": [
    {
     "name": "stdout",
     "output_type": "stream",
     "text": [
      "2.0\n"
     ]
    }
   ],
   "source": [
    "# demonstrating the (//) floor division operator;\n",
    "a = 10\n",
    "a //= 3.5\n",
    "print(a)"
   ]
  },
  {
   "cell_type": "code",
   "execution_count": 13,
   "id": "0ceeb290",
   "metadata": {},
   "outputs": [
    {
     "name": "stdout",
     "output_type": "stream",
     "text": [
      "21\n"
     ]
    }
   ],
   "source": [
    "# again\n",
    "a = 150\n",
    "a //= 7\n",
    "print(a)"
   ]
  },
  {
   "cell_type": "code",
   "execution_count": 15,
   "id": "89cb7013",
   "metadata": {},
   "outputs": [],
   "source": [
    "# ARITHMETIC OPERATORS"
   ]
  },
  {
   "cell_type": "code",
   "execution_count": 16,
   "id": "db49b636",
   "metadata": {},
   "outputs": [
    {
     "name": "stdout",
     "output_type": "stream",
     "text": [
      "15\n"
     ]
    }
   ],
   "source": [
    "# demonstrating the (+) addition operator\n",
    "a = 5\n",
    "b = 10\n",
    "print(a + b)"
   ]
  },
  {
   "cell_type": "code",
   "execution_count": 17,
   "id": "f62ffb20",
   "metadata": {},
   "outputs": [
    {
     "name": "stdout",
     "output_type": "stream",
     "text": [
      "1\n"
     ]
    }
   ],
   "source": [
    "# demonstrating the (-) subtraction operator\n",
    "a = 100\n",
    "b = 99\n",
    "print(a - b)"
   ]
  },
  {
   "cell_type": "code",
   "execution_count": 18,
   "id": "168891bf",
   "metadata": {},
   "outputs": [
    {
     "name": "stdout",
     "output_type": "stream",
     "text": [
      "400\n"
     ]
    }
   ],
   "source": [
    "# demonstrating the multicplication operator \n",
    "a = 20\n",
    "b = 20\n",
    "print(a * b)"
   ]
  },
  {
   "cell_type": "code",
   "execution_count": 19,
   "id": "34076d77",
   "metadata": {},
   "outputs": [
    {
     "name": "stdout",
     "output_type": "stream",
     "text": [
      "2.0\n"
     ]
    }
   ],
   "source": [
    "# demonstrating the division operator \n",
    "a = 10\n",
    "b =5\n",
    "print(a / b)"
   ]
  },
  {
   "cell_type": "code",
   "execution_count": 21,
   "id": "978eaf39",
   "metadata": {},
   "outputs": [
    {
     "name": "stdout",
     "output_type": "stream",
     "text": [
      "0\n"
     ]
    }
   ],
   "source": [
    "# demonstrating the modulus operator NB Divides left-hand operand by right-hand operand and returns the remainder\n",
    "a = 100\n",
    "b = 20\n",
    "print(a % b)"
   ]
  },
  {
   "cell_type": "code",
   "execution_count": 22,
   "id": "a01168af",
   "metadata": {},
   "outputs": [
    {
     "name": "stdout",
     "output_type": "stream",
     "text": [
      "81\n"
     ]
    }
   ],
   "source": [
    "# demonstrating the (**) exponent operator\n",
    "a = 9\n",
    "print (a **2)"
   ]
  },
  {
   "cell_type": "code",
   "execution_count": 23,
   "id": "396c3820",
   "metadata": {},
   "outputs": [
    {
     "name": "stdout",
     "output_type": "stream",
     "text": [
      "1\n"
     ]
    }
   ],
   "source": [
    "# demonstrating the (//) floor division operator \n",
    "a = 9\n",
    "b = 7\n",
    "print(a // b)"
   ]
  },
  {
   "cell_type": "code",
   "execution_count": 24,
   "id": "135aa880",
   "metadata": {},
   "outputs": [],
   "source": [
    "# COMPARISON OPERATORS"
   ]
  },
  {
   "cell_type": "code",
   "execution_count": 25,
   "id": "f424277e",
   "metadata": {},
   "outputs": [
    {
     "name": "stdout",
     "output_type": "stream",
     "text": [
      "True\n"
     ]
    }
   ],
   "source": [
    "# demonstrating the == operator\n",
    "a = 5\n",
    "b = 5\n",
    "print(a == b)"
   ]
  },
  {
   "cell_type": "code",
   "execution_count": 26,
   "id": "6e2a5a54",
   "metadata": {},
   "outputs": [
    {
     "name": "stdout",
     "output_type": "stream",
     "text": [
      "False\n"
     ]
    }
   ],
   "source": [
    "# demonstrating the (!=) not equial to operator\n",
    "a = 50\n",
    "b = 50\n",
    "print(a != b)"
   ]
  },
  {
   "cell_type": "code",
   "execution_count": 27,
   "id": "2420d837",
   "metadata": {},
   "outputs": [
    {
     "name": "stdout",
     "output_type": "stream",
     "text": [
      "True\n"
     ]
    }
   ],
   "source": [
    "# greater than (>) operator \n",
    "a = 10\n",
    "b = 5\n",
    "print(a > b)"
   ]
  },
  {
   "cell_type": "code",
   "execution_count": 28,
   "id": "074359ad",
   "metadata": {},
   "outputs": [
    {
     "name": "stdout",
     "output_type": "stream",
     "text": [
      "True\n"
     ]
    }
   ],
   "source": [
    "# demonstrating the (>=) operator\n",
    "a = 50\n",
    "b = 49\n",
    "print(a >= b)"
   ]
  },
  {
   "cell_type": "code",
   "execution_count": 29,
   "id": "888c74d4",
   "metadata": {
    "scrolled": true
   },
   "outputs": [
    {
     "name": "stdout",
     "output_type": "stream",
     "text": [
      "True\n"
     ]
    }
   ],
   "source": [
    "# demonstrating the (<=) operator\n",
    "a = 60\n",
    "b = 98\n",
    "print (a <= b)"
   ]
  },
  {
   "cell_type": "code",
   "execution_count": 30,
   "id": "90baf1f6",
   "metadata": {},
   "outputs": [],
   "source": [
    "# LOGICAL OPERATORS"
   ]
  },
  {
   "cell_type": "code",
   "execution_count": 33,
   "id": "62f4776c",
   "metadata": {},
   "outputs": [
    {
     "name": "stdout",
     "output_type": "stream",
     "text": [
      "semo a caval\n"
     ]
    }
   ],
   "source": [
    " # demonstrating the 'and' operator\n",
    "a = 50\n",
    "b = 40\n",
    "if a >=50 and b < 100:\n",
    "    print(\"semo a caval\")"
   ]
  },
  {
   "cell_type": "code",
   "execution_count": 34,
   "id": "01c60958",
   "metadata": {},
   "outputs": [
    {
     "name": "stdout",
     "output_type": "stream",
     "text": [
      "te ga intivá\n"
     ]
    }
   ],
   "source": [
    " # demonstrating the 'or' operator\n",
    "a = 50\n",
    "b = 800\n",
    "if a >500 or b > 500:\n",
    "    print(\"te ga intivá\")"
   ]
  },
  {
   "cell_type": "code",
   "execution_count": 36,
   "id": "8c5bda04",
   "metadata": {},
   "outputs": [
    {
     "name": "stdout",
     "output_type": "stream",
     "text": [
      "yes\n"
     ]
    }
   ],
   "source": [
    "# demonstrating the 'not' operator NB Returns True if the statement is false and False if the statement is true\n",
    "a = 10\n",
    "if not (a > 10):\n",
    "    print(\"yes\")\n",
    "else:\n",
    "        print(\"no\")"
   ]
  },
  {
   "cell_type": "code",
   "execution_count": 37,
   "id": "f5bb6eef",
   "metadata": {},
   "outputs": [],
   "source": [
    "# MEMBERSHIP OPERATORS"
   ]
  },
  {
   "cell_type": "code",
   "execution_count": 39,
   "id": "01a3dcf7",
   "metadata": {},
   "outputs": [
    {
     "name": "stdout",
     "output_type": "stream",
     "text": [
      "True\n"
     ]
    }
   ],
   "source": [
    "# demonstrating the 'in' operator\n",
    "serie_b = [\"Parma\", \"Reggiana\", \"Triestina\"]\n",
    "print (\"Parma\" in serie_b)\n"
   ]
  },
  {
   "cell_type": "code",
   "execution_count": 40,
   "id": "739c5f0a",
   "metadata": {},
   "outputs": [
    {
     "name": "stdout",
     "output_type": "stream",
     "text": [
      "False\n"
     ]
    }
   ],
   "source": [
    "# demonstrating the 'not in' operator\n",
    "pussa = [\"Germania\", \"Austria\", \"Francia\"]\n",
    "print (\"Austria\" not in pussa)"
   ]
  },
  {
   "cell_type": "code",
   "execution_count": 42,
   "id": "e195eefd",
   "metadata": {},
   "outputs": [],
   "source": [
    "# BITWISE OPERATORS"
   ]
  },
  {
   "cell_type": "code",
   "execution_count": null,
   "id": "0b0a6c3d",
   "metadata": {},
   "outputs": [],
   "source": []
  }
 ],
 "metadata": {
  "kernelspec": {
   "display_name": "Python 3 (ipykernel)",
   "language": "python",
   "name": "python3"
  },
  "language_info": {
   "codemirror_mode": {
    "name": "ipython",
    "version": 3
   },
   "file_extension": ".py",
   "mimetype": "text/x-python",
   "name": "python",
   "nbconvert_exporter": "python",
   "pygments_lexer": "ipython3",
   "version": "3.9.7"
  }
 },
 "nbformat": 4,
 "nbformat_minor": 5
}
